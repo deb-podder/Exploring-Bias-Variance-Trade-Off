{
 "cells": [
  {
   "cell_type": "markdown",
   "metadata": {},
   "source": [
    "## QUESTION 1 :\n",
    "Q1. Explore the concept of bias variance trade off in:\n",
    "\n",
    "1.\tDecision Tree and\n",
    "2.\tLinear Regression\n",
    "\n",
    "Take a dataset of your choice from UCI Machine Learning repository (for regression analysis) and estimate the bias error and variance error for the above mentioned modeling techniques. For decision tree, use different max_depth parameter values such as {3,5,7,9,11}. Choose a dataset which has at least 1000 rows. Draw a chart showing bias error and variance error based on your analysis.\n"
   ]
  },
  {
   "cell_type": "markdown",
   "metadata": {},
   "source": [
    "## DATA SOURCE :\n",
    "\n",
    "\n",
    "Combined Cycle Power Plant Data Set : The dataset contains 9568 data points collected from a Combined Cycle Power Plant over 6 years (2006-2011), when the power plant was set to work with full load. Features consist of hourly average ambient variables Temperature (T), Ambient Pressure (AP), Relative Humidity (RH) and Exhaust Vacuum (V) to predict the net hourly electrical energy output (EP) of the plant.\n",
    "\n",
    "\n",
    "https://archive.ics.uci.edu/ml/datasets/Combined+Cycle+Power+Plant"
   ]
  },
  {
   "cell_type": "code",
   "execution_count": 1,
   "metadata": {},
   "outputs": [],
   "source": [
    "import numpy as np\n",
    "import matplotlib.pyplot as plt\n",
    "import pandas as pd\n",
    "import math\n",
    "from sklearn.metrics import mean_squared_error"
   ]
  },
  {
   "cell_type": "markdown",
   "metadata": {},
   "source": [
    "## Data Import and Pre-processing"
   ]
  },
  {
   "cell_type": "code",
   "execution_count": 2,
   "metadata": {},
   "outputs": [
    {
     "data": {
      "text/html": [
       "<div>\n",
       "<style scoped>\n",
       "    .dataframe tbody tr th:only-of-type {\n",
       "        vertical-align: middle;\n",
       "    }\n",
       "\n",
       "    .dataframe tbody tr th {\n",
       "        vertical-align: top;\n",
       "    }\n",
       "\n",
       "    .dataframe thead th {\n",
       "        text-align: right;\n",
       "    }\n",
       "</style>\n",
       "<table border=\"1\" class=\"dataframe\">\n",
       "  <thead>\n",
       "    <tr style=\"text-align: right;\">\n",
       "      <th></th>\n",
       "      <th>Temperature (T)</th>\n",
       "      <th>Exhaust Vacuum (V)</th>\n",
       "      <th>Ambient Pressure (AP)</th>\n",
       "      <th>Relative Humidity (RH)</th>\n",
       "      <th>Net hourly electrical energy output (EP)</th>\n",
       "    </tr>\n",
       "  </thead>\n",
       "  <tbody>\n",
       "    <tr>\n",
       "      <td>0</td>\n",
       "      <td>8.34</td>\n",
       "      <td>40.77</td>\n",
       "      <td>1010.84</td>\n",
       "      <td>90.01</td>\n",
       "      <td>480.48</td>\n",
       "    </tr>\n",
       "    <tr>\n",
       "      <td>1</td>\n",
       "      <td>23.64</td>\n",
       "      <td>58.49</td>\n",
       "      <td>1011.40</td>\n",
       "      <td>74.20</td>\n",
       "      <td>445.75</td>\n",
       "    </tr>\n",
       "    <tr>\n",
       "      <td>2</td>\n",
       "      <td>29.74</td>\n",
       "      <td>56.90</td>\n",
       "      <td>1007.15</td>\n",
       "      <td>41.91</td>\n",
       "      <td>438.76</td>\n",
       "    </tr>\n",
       "    <tr>\n",
       "      <td>3</td>\n",
       "      <td>19.07</td>\n",
       "      <td>49.69</td>\n",
       "      <td>1007.22</td>\n",
       "      <td>76.79</td>\n",
       "      <td>453.09</td>\n",
       "    </tr>\n",
       "    <tr>\n",
       "      <td>4</td>\n",
       "      <td>11.80</td>\n",
       "      <td>40.66</td>\n",
       "      <td>1017.13</td>\n",
       "      <td>97.20</td>\n",
       "      <td>464.43</td>\n",
       "    </tr>\n",
       "  </tbody>\n",
       "</table>\n",
       "</div>"
      ],
      "text/plain": [
       "   Temperature (T)  Exhaust Vacuum (V)  Ambient Pressure (AP)  \\\n",
       "0             8.34               40.77                1010.84   \n",
       "1            23.64               58.49                1011.40   \n",
       "2            29.74               56.90                1007.15   \n",
       "3            19.07               49.69                1007.22   \n",
       "4            11.80               40.66                1017.13   \n",
       "\n",
       "   Relative Humidity (RH)  Net hourly electrical energy output (EP)  \n",
       "0                   90.01                                    480.48  \n",
       "1                   74.20                                    445.75  \n",
       "2                   41.91                                    438.76  \n",
       "3                   76.79                                    453.09  \n",
       "4                   97.20                                    464.43  "
      ]
     },
     "execution_count": 2,
     "metadata": {},
     "output_type": "execute_result"
    }
   ],
   "source": [
    "dataset = pd.read_csv('Combined Cycle Power Plant.csv')\n",
    "dataset.head()"
   ]
  },
  {
   "cell_type": "code",
   "execution_count": 3,
   "metadata": {},
   "outputs": [
    {
     "name": "stdout",
     "output_type": "stream",
     "text": [
      "<class 'pandas.core.frame.DataFrame'>\n",
      "RangeIndex: 9568 entries, 0 to 9567\n",
      "Data columns (total 5 columns):\n",
      "Temperature (T)                             9568 non-null float64\n",
      "Exhaust Vacuum (V)                          9568 non-null float64\n",
      "Ambient Pressure (AP)                       9568 non-null float64\n",
      "Relative Humidity (RH)                      9568 non-null float64\n",
      "Net hourly electrical energy output (EP)    9568 non-null float64\n",
      "dtypes: float64(5)\n",
      "memory usage: 373.9 KB\n"
     ]
    }
   ],
   "source": [
    "dataset.info()"
   ]
  },
  {
   "cell_type": "code",
   "execution_count": 4,
   "metadata": {},
   "outputs": [
    {
     "data": {
      "text/plain": [
       "Index(['Temperature (T)', 'Exhaust Vacuum (V)', 'Ambient Pressure (AP)',\n",
       "       'Relative Humidity (RH)', 'Net hourly electrical energy output (EP)'],\n",
       "      dtype='object')"
      ]
     },
     "execution_count": 4,
     "metadata": {},
     "output_type": "execute_result"
    }
   ],
   "source": [
    "dataset.columns"
   ]
  },
  {
   "cell_type": "code",
   "execution_count": 5,
   "metadata": {},
   "outputs": [
    {
     "data": {
      "text/plain": [
       "(9568, 5)"
      ]
     },
     "execution_count": 5,
     "metadata": {},
     "output_type": "execute_result"
    }
   ],
   "source": [
    "dataset.shape"
   ]
  },
  {
   "cell_type": "code",
   "execution_count": 6,
   "metadata": {},
   "outputs": [
    {
     "data": {
      "text/html": [
       "<div>\n",
       "<style scoped>\n",
       "    .dataframe tbody tr th:only-of-type {\n",
       "        vertical-align: middle;\n",
       "    }\n",
       "\n",
       "    .dataframe tbody tr th {\n",
       "        vertical-align: top;\n",
       "    }\n",
       "\n",
       "    .dataframe thead th {\n",
       "        text-align: right;\n",
       "    }\n",
       "</style>\n",
       "<table border=\"1\" class=\"dataframe\">\n",
       "  <thead>\n",
       "    <tr style=\"text-align: right;\">\n",
       "      <th></th>\n",
       "      <th>Temperature (T)</th>\n",
       "      <th>Exhaust Vacuum (V)</th>\n",
       "      <th>Ambient Pressure (AP)</th>\n",
       "      <th>Relative Humidity (RH)</th>\n",
       "      <th>Net hourly electrical energy output (EP)</th>\n",
       "    </tr>\n",
       "  </thead>\n",
       "  <tbody>\n",
       "    <tr>\n",
       "      <td>count</td>\n",
       "      <td>9568.000000</td>\n",
       "      <td>9568.000000</td>\n",
       "      <td>9568.000000</td>\n",
       "      <td>9568.000000</td>\n",
       "      <td>9568.000000</td>\n",
       "    </tr>\n",
       "    <tr>\n",
       "      <td>mean</td>\n",
       "      <td>19.651231</td>\n",
       "      <td>54.305804</td>\n",
       "      <td>1013.259078</td>\n",
       "      <td>73.308978</td>\n",
       "      <td>454.365009</td>\n",
       "    </tr>\n",
       "    <tr>\n",
       "      <td>std</td>\n",
       "      <td>7.452473</td>\n",
       "      <td>12.707893</td>\n",
       "      <td>5.938784</td>\n",
       "      <td>14.600269</td>\n",
       "      <td>17.066995</td>\n",
       "    </tr>\n",
       "    <tr>\n",
       "      <td>min</td>\n",
       "      <td>1.810000</td>\n",
       "      <td>25.360000</td>\n",
       "      <td>992.890000</td>\n",
       "      <td>25.560000</td>\n",
       "      <td>420.260000</td>\n",
       "    </tr>\n",
       "    <tr>\n",
       "      <td>25%</td>\n",
       "      <td>13.510000</td>\n",
       "      <td>41.740000</td>\n",
       "      <td>1009.100000</td>\n",
       "      <td>63.327500</td>\n",
       "      <td>439.750000</td>\n",
       "    </tr>\n",
       "    <tr>\n",
       "      <td>50%</td>\n",
       "      <td>20.345000</td>\n",
       "      <td>52.080000</td>\n",
       "      <td>1012.940000</td>\n",
       "      <td>74.975000</td>\n",
       "      <td>451.550000</td>\n",
       "    </tr>\n",
       "    <tr>\n",
       "      <td>75%</td>\n",
       "      <td>25.720000</td>\n",
       "      <td>66.540000</td>\n",
       "      <td>1017.260000</td>\n",
       "      <td>84.830000</td>\n",
       "      <td>468.430000</td>\n",
       "    </tr>\n",
       "    <tr>\n",
       "      <td>max</td>\n",
       "      <td>37.110000</td>\n",
       "      <td>81.560000</td>\n",
       "      <td>1033.300000</td>\n",
       "      <td>100.160000</td>\n",
       "      <td>495.760000</td>\n",
       "    </tr>\n",
       "  </tbody>\n",
       "</table>\n",
       "</div>"
      ],
      "text/plain": [
       "       Temperature (T)  Exhaust Vacuum (V)  Ambient Pressure (AP)  \\\n",
       "count      9568.000000         9568.000000            9568.000000   \n",
       "mean         19.651231           54.305804            1013.259078   \n",
       "std           7.452473           12.707893               5.938784   \n",
       "min           1.810000           25.360000             992.890000   \n",
       "25%          13.510000           41.740000            1009.100000   \n",
       "50%          20.345000           52.080000            1012.940000   \n",
       "75%          25.720000           66.540000            1017.260000   \n",
       "max          37.110000           81.560000            1033.300000   \n",
       "\n",
       "       Relative Humidity (RH)  Net hourly electrical energy output (EP)  \n",
       "count             9568.000000                               9568.000000  \n",
       "mean                73.308978                                454.365009  \n",
       "std                 14.600269                                 17.066995  \n",
       "min                 25.560000                                420.260000  \n",
       "25%                 63.327500                                439.750000  \n",
       "50%                 74.975000                                451.550000  \n",
       "75%                 84.830000                                468.430000  \n",
       "max                100.160000                                495.760000  "
      ]
     },
     "execution_count": 6,
     "metadata": {},
     "output_type": "execute_result"
    }
   ],
   "source": [
    "dataset.describe()"
   ]
  },
  {
   "cell_type": "code",
   "execution_count": 7,
   "metadata": {},
   "outputs": [
    {
     "data": {
      "text/plain": [
       "False"
      ]
     },
     "execution_count": 7,
     "metadata": {},
     "output_type": "execute_result"
    }
   ],
   "source": [
    "dataset.isnull().values.any()"
   ]
  },
  {
   "cell_type": "code",
   "execution_count": 8,
   "metadata": {},
   "outputs": [
    {
     "name": "stdout",
     "output_type": "stream",
     "text": [
      "Shape of X: (9568, 4)\n",
      "Shape of y: (9568,)\n"
     ]
    }
   ],
   "source": [
    "X = dataset.iloc[:, :-1].values\n",
    "y = dataset.iloc[:, -1].values\n",
    "print(\"Shape of X:\", X.shape)\n",
    "print(\"Shape of y:\", y.shape)"
   ]
  },
  {
   "cell_type": "markdown",
   "metadata": {},
   "source": [
    "## Splitting the dataset into the Training set and Test set"
   ]
  },
  {
   "cell_type": "code",
   "execution_count": 9,
   "metadata": {},
   "outputs": [],
   "source": [
    "from sklearn.model_selection import train_test_split\n",
    "X_train, X_test, y_train, y_test = train_test_split(X, y, test_size = 0.2, random_state = 100)"
   ]
  },
  {
   "cell_type": "markdown",
   "metadata": {},
   "source": [
    "## Multivariate Linear Regression Model"
   ]
  },
  {
   "cell_type": "code",
   "execution_count": 10,
   "metadata": {},
   "outputs": [
    {
     "data": {
      "text/plain": [
       "LinearRegression(copy_X=True, fit_intercept=True, n_jobs=None, normalize=False)"
      ]
     },
     "execution_count": 10,
     "metadata": {},
     "output_type": "execute_result"
    }
   ],
   "source": [
    "from sklearn.linear_model import LinearRegression\n",
    "regressor = LinearRegression()\n",
    "regressor.fit(X_train, y_train)"
   ]
  },
  {
   "cell_type": "code",
   "execution_count": 11,
   "metadata": {},
   "outputs": [
    {
     "name": "stdout",
     "output_type": "stream",
     "text": [
      "[[452.72 448.79]\n",
      " [437.47 431.44]\n",
      " [435.15 439.37]\n",
      " ...\n",
      " [443.26 450.54]\n",
      " [436.08 436.43]\n",
      " [467.9  458.76]]\n"
     ]
    }
   ],
   "source": [
    "y_pred = regressor.predict(X_test)\n",
    "np.set_printoptions(precision=2)\n",
    "print(np.concatenate((y_pred.reshape(-1,1), y_test.reshape(-1,1)),1))"
   ]
  },
  {
   "cell_type": "code",
   "execution_count": 12,
   "metadata": {},
   "outputs": [],
   "source": [
    "import seaborn as sns"
   ]
  },
  {
   "cell_type": "code",
   "execution_count": 13,
   "metadata": {},
   "outputs": [
    {
     "data": {
      "text/plain": [
       "Text(0.5, 1.0, 'Multivariate Linear Regression Model')"
      ]
     },
     "execution_count": 13,
     "metadata": {},
     "output_type": "execute_result"
    },
    {
     "data": {
      "image/png": "[encoded data removed]",
      "text/plain": [
       "<Figure size 360x360 with 1 Axes>"
      ]
     },
     "metadata": {
      "needs_background": "light"
     },
     "output_type": "display_data"
    }
   ],
   "source": [
    "plt.figure(figsize=(5, 5))\n",
    "sns.regplot(y_pred, y_test)\n",
    "plt.xlabel('Prediction')\n",
    "plt.ylabel('Actual')\n",
    "plt.title('Multivariate Linear Regression Model')\n"
   ]
  },
  {
   "cell_type": "code",
   "execution_count": 14,
   "metadata": {},
   "outputs": [
    {
     "name": "stdout",
     "output_type": "stream",
     "text": [
      "Model Evaluation of Multivariate Linear Regression :\n",
      "\n",
      "MSE for Multivariate Linear Regression model is: 22.067825310878526\n",
      "Bias for Multivariate Linear Regression model is: -0.0808929277384464\n",
      "Variance for Multivariate Linear Regression model is: 264.7422172273681\n"
     ]
    }
   ],
   "source": [
    "print(\"Model Evaluation of Multivariate Linear Regression :\\n\")\n",
    "#mse_ml=mean_squared_error(y_pred,y_test)\n",
    "mse_ml=np.mean((y_test-y_pred)**2)\n",
    "print(\"MSE for Multivariate Linear Regression model is:\", mse_ml)\n",
    "\n",
    "bias_ml=np.mean(np.mean(y_pred)-y_test)\n",
    "print(\"Bias for Multivariate Linear Regression model is:\", bias_ml)\n",
    "\n",
    "var_ml=np.mean((y_pred - np.mean(y_pred))**2)\n",
    "print(\"Variance for Multivariate Linear Regression model is:\", var_ml)\n"
   ]
  },
  {
   "cell_type": "code",
   "execution_count": 15,
   "metadata": {},
   "outputs": [
    {
     "name": "stdout",
     "output_type": "stream",
     "text": [
      "Accuracy scores of each fold for Multivariate Linear Regression Model:  ['0.930', '0.920', '0.931', '0.928', '0.934']\n",
      "Accuracy: 0.928 (+/- 0.010)\n",
      "Accuracy: 0.928 (+/- 0.005)\n"
     ]
    }
   ],
   "source": [
    "from sklearn.model_selection import cross_val_score\n",
    "\n",
    "scores_lr = cross_val_score(regressor, X, y, cv=5)\n",
    "print('Accuracy scores of each fold for Multivariate Linear Regression Model: ', [f'{acc:.3f}' for acc in scores_lr])\n",
    "print(f'Accuracy: {scores_lr.mean():.3f} (+/- {scores_lr.std() * 2:.3f})')\n",
    "print(f'Accuracy: {scores_lr.mean():.3f} (+/- {scores_lr.std():.3f})')\n"
   ]
  },
  {
   "cell_type": "markdown",
   "metadata": {},
   "source": [
    "## Polynomial Linear Regression Model\n",
    " \n",
    " "
   ]
  },
  {
   "cell_type": "code",
   "execution_count": 16,
   "metadata": {},
   "outputs": [],
   "source": [
    "from sklearn.preprocessing import PolynomialFeatures\n",
    "\n",
    "i=0\n",
    "degrees = np.arange(2,11)\n",
    "bias_poly_array = np.zeros(9)\n",
    "mse_poly_array = np.zeros(9)\n",
    "var_poly_array = np.zeros(9)\n",
    "rmse_poly_array = np.zeros(9)\n",
    "min_rmse, min_deg = 1e10, 0\n",
    "\n",
    "for power in degrees:    \n",
    "    \n",
    "    poly_reg = PolynomialFeatures(degree = power)\n",
    "    X_poly = poly_reg.fit_transform(X_train)\n",
    "    lin_reg_2 = LinearRegression()\n",
    "    lin_reg_2.fit(X_poly, y_train)\n",
    "    \n",
    "    y_pred_poly = lin_reg_2.predict(poly_reg.fit_transform(X_test))\n",
    "    \n",
    "    mse_poly = mean_squared_error(y_test,y_pred_poly)\n",
    "    rmse_poly = np.sqrt(mse_poly)\n",
    "    var_poly= np.mean((y_pred_poly - np.mean(y_pred_poly))**2)\n",
    "    bias_poly= np.mean(np.mean(y_pred_poly) - y_test)\n",
    "    \n",
    "    if min_rmse > rmse_poly:\n",
    "        min_rmse = rmse_poly\n",
    "        min_deg = power\n",
    "    \n",
    "    bias_poly_array[i] = bias_poly\n",
    "    mse_poly_array[i] = mse_poly\n",
    "    rmse_poly_array[i] = rmse_poly\n",
    "    var_poly_array[i] = var_poly\n",
    "    i+=1\n"
   ]
  },
  {
   "cell_type": "code",
   "execution_count": 17,
   "metadata": {},
   "outputs": [
    {
     "name": "stdout",
     "output_type": "stream",
     "text": [
      "Bias Variance Chart for Polynomial Linear Regression Model\n"
     ]
    },
    {
     "data": {
      "text/html": [
       "<div>\n",
       "<style scoped>\n",
       "    .dataframe tbody tr th:only-of-type {\n",
       "        vertical-align: middle;\n",
       "    }\n",
       "\n",
       "    .dataframe tbody tr th {\n",
       "        vertical-align: top;\n",
       "    }\n",
       "\n",
       "    .dataframe thead th {\n",
       "        text-align: right;\n",
       "    }\n",
       "</style>\n",
       "<table border=\"1\" class=\"dataframe\">\n",
       "  <thead>\n",
       "    <tr style=\"text-align: right;\">\n",
       "      <th></th>\n",
       "      <th>Degree</th>\n",
       "      <th>Bias</th>\n",
       "      <th>Variance</th>\n",
       "      <th>MSE</th>\n",
       "      <th>RMSE</th>\n",
       "    </tr>\n",
       "  </thead>\n",
       "  <tbody>\n",
       "    <tr>\n",
       "      <td>0</td>\n",
       "      <td>2</td>\n",
       "      <td>-0.093701</td>\n",
       "      <td>265.275026</td>\n",
       "      <td>19.088834</td>\n",
       "      <td>4.369077</td>\n",
       "    </tr>\n",
       "    <tr>\n",
       "      <td>1</td>\n",
       "      <td>3</td>\n",
       "      <td>-0.078810</td>\n",
       "      <td>268.001072</td>\n",
       "      <td>18.292566</td>\n",
       "      <td>4.276981</td>\n",
       "    </tr>\n",
       "    <tr>\n",
       "      <td>2</td>\n",
       "      <td>4</td>\n",
       "      <td>-0.106770</td>\n",
       "      <td>267.505790</td>\n",
       "      <td>17.976995</td>\n",
       "      <td>4.239929</td>\n",
       "    </tr>\n",
       "    <tr>\n",
       "      <td>3</td>\n",
       "      <td>5</td>\n",
       "      <td>-0.107947</td>\n",
       "      <td>269.095335</td>\n",
       "      <td>17.922691</td>\n",
       "      <td>4.233520</td>\n",
       "    </tr>\n",
       "    <tr>\n",
       "      <td>4</td>\n",
       "      <td>6</td>\n",
       "      <td>-0.170741</td>\n",
       "      <td>276.857406</td>\n",
       "      <td>23.419648</td>\n",
       "      <td>4.839385</td>\n",
       "    </tr>\n",
       "    <tr>\n",
       "      <td>5</td>\n",
       "      <td>7</td>\n",
       "      <td>-0.117010</td>\n",
       "      <td>269.611268</td>\n",
       "      <td>18.028546</td>\n",
       "      <td>4.246004</td>\n",
       "    </tr>\n",
       "    <tr>\n",
       "      <td>6</td>\n",
       "      <td>8</td>\n",
       "      <td>-0.129011</td>\n",
       "      <td>269.088171</td>\n",
       "      <td>16.957473</td>\n",
       "      <td>4.117945</td>\n",
       "    </tr>\n",
       "    <tr>\n",
       "      <td>7</td>\n",
       "      <td>9</td>\n",
       "      <td>-0.128128</td>\n",
       "      <td>268.771620</td>\n",
       "      <td>16.967356</td>\n",
       "      <td>4.119145</td>\n",
       "    </tr>\n",
       "    <tr>\n",
       "      <td>8</td>\n",
       "      <td>10</td>\n",
       "      <td>-0.117661</td>\n",
       "      <td>268.910882</td>\n",
       "      <td>17.074904</td>\n",
       "      <td>4.132179</td>\n",
       "    </tr>\n",
       "  </tbody>\n",
       "</table>\n",
       "</div>"
      ],
      "text/plain": [
       "   Degree      Bias    Variance        MSE      RMSE\n",
       "0       2 -0.093701  265.275026  19.088834  4.369077\n",
       "1       3 -0.078810  268.001072  18.292566  4.276981\n",
       "2       4 -0.106770  267.505790  17.976995  4.239929\n",
       "3       5 -0.107947  269.095335  17.922691  4.233520\n",
       "4       6 -0.170741  276.857406  23.419648  4.839385\n",
       "5       7 -0.117010  269.611268  18.028546  4.246004\n",
       "6       8 -0.129011  269.088171  16.957473  4.117945\n",
       "7       9 -0.128128  268.771620  16.967356  4.119145\n",
       "8      10 -0.117661  268.910882  17.074904  4.132179"
      ]
     },
     "execution_count": 17,
     "metadata": {},
     "output_type": "execute_result"
    }
   ],
   "source": [
    "print(\"Bias Variance Chart for Polynomial Linear Regression Model\")\n",
    "\n",
    "df_poly=pd.DataFrame({\"Degree\":degrees, \"Bias\":bias_poly_array, \"Variance\":var_poly_array, \"MSE\":mse_poly_array, \"RMSE\":rmse_poly_array})\n",
    "df_poly.head(10)"
   ]
  },
  {
   "cell_type": "code",
   "execution_count": 18,
   "metadata": {},
   "outputs": [
    {
     "name": "stdout",
     "output_type": "stream",
     "text": [
      "Best degree 8 with RMSE 4.1179452611719665\n"
     ]
    },
    {
     "data": {
      "text/plain": [
       "Text(0.5, 1.0, 'RMSE of Polynomial Linear Regression Model with each degree')"
      ]
     },
     "execution_count": 18,
     "metadata": {},
     "output_type": "execute_result"
    },
    {
     "data": {
      "image/png": "[encoded data removed]",
      "text/plain": [
       "<Figure size 432x288 with 1 Axes>"
      ]
     },
     "metadata": {
      "needs_background": "light"
     },
     "output_type": "display_data"
    }
   ],
   "source": [
    "print('Best degree {} with RMSE {}'.format(min_deg, min_rmse))\n",
    "\n",
    "fig = plt.figure()\n",
    "ax = fig.add_subplot(111)\n",
    "ax.plot(degrees, rmse_poly_array)\n",
    "ax.set_xlabel('Depth')\n",
    "ax.set_ylabel('RMSE')\n",
    "ax.set_title('RMSE of Polynomial Linear Regression Model with each degree')\n"
   ]
  },
  {
   "cell_type": "code",
   "execution_count": 19,
   "metadata": {},
   "outputs": [],
   "source": [
    "from sklearn.preprocessing import StandardScaler\n",
    "\n",
    "sc = StandardScaler()\n",
    "\n",
    "var_poly_2darray = np.array(var_poly_array).reshape(-1,1)\n",
    "var_poly_2darray = sc.fit_transform(var_poly_2darray)\n",
    "\n",
    "bias_poly_2darray = np.array(bias_poly_array).reshape(-1,1)\n",
    "#bias_poly_2darray = sc.fit_transform(bias_poly_2darray)\n",
    "\n",
    "#mse_poly_2darray = np.array(mse_poly_array).reshape(-1,1)\n",
    "#mse_poly_2darray = sc.fit_transform(mse_poly_2darray)\n"
   ]
  },
  {
   "cell_type": "code",
   "execution_count": 20,
   "metadata": {},
   "outputs": [
    {
     "data": {
      "image/png": "[encoded data removed]",
      "text/plain": [
       "<Figure size 432x288 with 1 Axes>"
      ]
     },
     "metadata": {
      "needs_background": "light"
     },
     "output_type": "display_data"
    }
   ],
   "source": [
    "plt.plot(degrees, bias_poly_2darray, label='Bias')\n",
    "plt.plot(degrees, var_poly_2darray, label='Variance')\n",
    "#plt.plot(degrees, mse_poly_2darray, label='MSE')\n",
    "plt.title('Bias & Variance for Polynomial Linear Regression Model')\n",
    "plt.legend()\n",
    "plt.legend()\n",
    "plt.show()\n"
   ]
  },
  {
   "cell_type": "markdown",
   "metadata": {},
   "source": [
    "## Decision Tree Regression Model"
   ]
  },
  {
   "cell_type": "code",
   "execution_count": 21,
   "metadata": {
    "scrolled": true
   },
   "outputs": [],
   "source": [
    "from sklearn.tree import DecisionTreeRegressor\n",
    "\n",
    "i=0\n",
    "depth = np.arange(3,12,2)\n",
    "bias_dt_array = np.zeros(5)\n",
    "mse_dt_array = np.zeros(5)\n",
    "var_dt_array = np.zeros(5)\n",
    "rmse_dt_array = np.zeros(5)\n",
    "cv_scores = np.zeros(5)\n",
    "min_rmse_dt, min_depth_dt = 1e10, 0\n",
    "\n",
    "for dep in depth:\n",
    "    \n",
    "    DTregressor = DecisionTreeRegressor(max_depth=dep, random_state = 0)\n",
    "    DTregressor.fit(X_train, y_train)\n",
    "    \n",
    "    y_pred_DT = DTregressor.predict(X_test)\n",
    "    \n",
    "    mse_dt = mean_squared_error(y_test,y_pred_DT)\n",
    "    rmse_dt = np.sqrt(mse_dt)\n",
    "    var_dt= np.mean((y_pred_DT - np.mean(y_pred_DT))**2)\n",
    "    bias_dt= np.mean(np.mean(y_pred_DT) - y_test)\n",
    "    \n",
    "    if min_rmse_dt > rmse_dt:\n",
    "        min_rmse_dt = rmse_dt\n",
    "        min_depth_dt = dep\n",
    "    \n",
    "    \n",
    "    bias_dt_array[i] = bias_dt\n",
    "    mse_dt_array[i] = mse_dt\n",
    "    rmse_dt_array[i] = rmse_dt\n",
    "    var_dt_array[i] = var_dt\n",
    "    \n",
    "    scores_DT = cross_val_score(DTregressor, X, y, cv=5)\n",
    "    cv_scores[i]=np.mean(scores_DT)\n",
    "    i+=1\n",
    "    "
   ]
  },
  {
   "cell_type": "code",
   "execution_count": 22,
   "metadata": {},
   "outputs": [
    {
     "name": "stdout",
     "output_type": "stream",
     "text": [
      "Bias Variance Chart for Decision Tree Regression Model\n"
     ]
    },
    {
     "data": {
      "text/html": [
       "<div>\n",
       "<style scoped>\n",
       "    .dataframe tbody tr th:only-of-type {\n",
       "        vertical-align: middle;\n",
       "    }\n",
       "\n",
       "    .dataframe tbody tr th {\n",
       "        vertical-align: top;\n",
       "    }\n",
       "\n",
       "    .dataframe thead th {\n",
       "        text-align: right;\n",
       "    }\n",
       "</style>\n",
       "<table border=\"1\" class=\"dataframe\">\n",
       "  <thead>\n",
       "    <tr style=\"text-align: right;\">\n",
       "      <th></th>\n",
       "      <th>Depth</th>\n",
       "      <th>Bias</th>\n",
       "      <th>Variance</th>\n",
       "      <th>MSE</th>\n",
       "      <th>RMSE</th>\n",
       "      <th>Accuracy</th>\n",
       "    </tr>\n",
       "  </thead>\n",
       "  <tbody>\n",
       "    <tr>\n",
       "      <td>0</td>\n",
       "      <td>3</td>\n",
       "      <td>-0.111172</td>\n",
       "      <td>259.056784</td>\n",
       "      <td>29.058321</td>\n",
       "      <td>5.390577</td>\n",
       "      <td>0.907823</td>\n",
       "    </tr>\n",
       "    <tr>\n",
       "      <td>1</td>\n",
       "      <td>5</td>\n",
       "      <td>-0.099113</td>\n",
       "      <td>265.331873</td>\n",
       "      <td>21.023403</td>\n",
       "      <td>4.585129</td>\n",
       "      <td>0.930788</td>\n",
       "    </tr>\n",
       "    <tr>\n",
       "      <td>2</td>\n",
       "      <td>7</td>\n",
       "      <td>-0.117673</td>\n",
       "      <td>267.232221</td>\n",
       "      <td>18.861164</td>\n",
       "      <td>4.342944</td>\n",
       "      <td>0.939346</td>\n",
       "    </tr>\n",
       "    <tr>\n",
       "      <td>3</td>\n",
       "      <td>9</td>\n",
       "      <td>-0.133622</td>\n",
       "      <td>269.191253</td>\n",
       "      <td>20.055181</td>\n",
       "      <td>4.478301</td>\n",
       "      <td>0.941463</td>\n",
       "    </tr>\n",
       "    <tr>\n",
       "      <td>4</td>\n",
       "      <td>11</td>\n",
       "      <td>-0.129130</td>\n",
       "      <td>273.831794</td>\n",
       "      <td>20.730208</td>\n",
       "      <td>4.553044</td>\n",
       "      <td>0.937198</td>\n",
       "    </tr>\n",
       "  </tbody>\n",
       "</table>\n",
       "</div>"
      ],
      "text/plain": [
       "   Depth      Bias    Variance        MSE      RMSE  Accuracy\n",
       "0      3 -0.111172  259.056784  29.058321  5.390577  0.907823\n",
       "1      5 -0.099113  265.331873  21.023403  4.585129  0.930788\n",
       "2      7 -0.117673  267.232221  18.861164  4.342944  0.939346\n",
       "3      9 -0.133622  269.191253  20.055181  4.478301  0.941463\n",
       "4     11 -0.129130  273.831794  20.730208  4.553044  0.937198"
      ]
     },
     "execution_count": 22,
     "metadata": {},
     "output_type": "execute_result"
    }
   ],
   "source": [
    "\n",
    "print(\"Bias Variance Chart for Decision Tree Regression Model\")\n",
    "\n",
    "df_dt=pd.DataFrame({\"Depth\":depth, \"Bias\":bias_dt_array, \"Variance\":var_dt_array, \"MSE\":mse_dt_array, \"RMSE\":rmse_dt_array, \"Accuracy\": cv_scores})\n",
    "df_dt.head(10)\n"
   ]
  },
  {
   "cell_type": "code",
   "execution_count": 23,
   "metadata": {},
   "outputs": [
    {
     "name": "stdout",
     "output_type": "stream",
     "text": [
      "Best depth 7 with RMSE 4.3429441946644545\n"
     ]
    },
    {
     "data": {
      "text/plain": [
       "Text(0.5, 1.0, 'RMSE of Decission Tree Regression Model with each depth')"
      ]
     },
     "execution_count": 23,
     "metadata": {},
     "output_type": "execute_result"
    },
    {
     "data": {
      "image/png": "[encoded data removed]",
      "text/plain": [
       "<Figure size 432x288 with 1 Axes>"
      ]
     },
     "metadata": {
      "needs_background": "light"
     },
     "output_type": "display_data"
    }
   ],
   "source": [
    "print('Best depth {} with RMSE {}'.format(min_depth_dt, min_rmse_dt))\n",
    "\n",
    "fig = plt.figure()\n",
    "ax = fig.add_subplot(111)\n",
    "ax.plot(depth, rmse_dt_array)\n",
    "ax.set_xlabel('Depth')\n",
    "ax.set_ylabel('RMSE')\n",
    "ax.set_title('RMSE of Decission Tree Regression Model with each depth')"
   ]
  },
  {
   "cell_type": "code",
   "execution_count": 24,
   "metadata": {},
   "outputs": [],
   "source": [
    "from sklearn.preprocessing import StandardScaler\n",
    "\n",
    "sc = StandardScaler()\n",
    "\n",
    "var_dt_2darray = np.array(var_dt_array).reshape(-1,1)\n",
    "var_dt_2darray = sc.fit_transform(var_dt_2darray)\n",
    "\n",
    "#mse_dt_2darray = np.array(mse_dt_array).reshape(-1,1)\n",
    "#mse_dt_2darray = sc.fit_transform(mse_dt_2darray)\n",
    "\n",
    "bias_dt_2darray = np.array(bias_dt_array).reshape(-1,1)\n",
    "bias_dt_2darray = sc.fit_transform(bias_dt_2darray)"
   ]
  },
  {
   "cell_type": "code",
   "execution_count": 25,
   "metadata": {},
   "outputs": [
    {
     "data": {
      "image/png": "[encoded data removed]",
      "text/plain": [
       "<Figure size 432x288 with 1 Axes>"
      ]
     },
     "metadata": {
      "needs_background": "light"
     },
     "output_type": "display_data"
    }
   ],
   "source": [
    "plt.plot(depth, bias_dt_2darray, label='Bias')\n",
    "plt.plot(depth, var_dt_2darray, label='Variance')\n",
    "#plt.plot(depth, mse_dt_2darray, label='MSE')\n",
    "plt.title('Bias & Variance for Decision Tree Regression Model')\n",
    "plt.legend()\n",
    "plt.show()"
   ]
  },
  {
   "cell_type": "code",
   "execution_count": null,
   "metadata": {},
   "outputs": [],
   "source": []
  }
 ],
 "metadata": {
  "kernelspec": {
   "display_name": "Python 3",
   "language": "python",
   "name": "python3"
  },
  "language_info": {
   "codemirror_mode": {
    "name": "ipython",
    "version": 3
   },
   "file_extension": ".py",
   "mimetype": "text/x-python",
   "name": "python",
   "nbconvert_exporter": "python",
   "pygments_lexer": "ipython3",
   "version": "3.7.4"
  }
 },
 "nbformat": 4,
 "nbformat_minor": 2
}
